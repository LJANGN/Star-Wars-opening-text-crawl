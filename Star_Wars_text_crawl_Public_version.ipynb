{
 "cells": [
  {
   "cell_type": "markdown",
   "metadata": {
    "deletable": true,
    "editable": true
   },
   "source": [
    "# Star Wars opening text crawl effect\n",
    "Mimic of Star Wars' opening title text crawl. A text with a (false) <br>\n",
    "perspective effect goes towards the end of a chosen image,<br>\n",
    "for example, a background made of stars. Slight fading effect on the text.\n",
    "\n",
    "Make sure you have ImageMagick-7.0.8-Q16 dowloaded https://imagemagick.org/index.php<br>\n",
    "and ffmpeg \"pip installed\".\n",
    "\n",
    "Start by importing libraries. MoviePy version is 1.0.0 https://zulko.github.io/moviepy/\n"
   ]
  },
  {
   "cell_type": "code",
   "execution_count": 1,
   "metadata": {
    "collapsed": true,
    "deletable": true,
    "editable": true
   },
   "outputs": [],
   "source": [
    "import numpy as np\n",
    "from skimage import transform as tf\n",
    "\n",
    "from moviepy.editor import *\n",
    "from moviepy.video.tools.drawing import color_gradient"
   ]
  },
  {
   "cell_type": "markdown",
   "metadata": {
    "deletable": true,
    "editable": true
   },
   "source": [
    "Choose resolution. Here, width 720 and height 405, i.e. width times 9/16 to make it in widescreen mode."
   ]
  },
  {
   "cell_type": "code",
   "execution_count": 2,
   "metadata": {
    "collapsed": true,
    "deletable": true,
    "editable": true
   },
   "outputs": [],
   "source": [
    "# RESOLUTION \n",
    "\n",
    "w = 720\n",
    "h = w*9//16 \n",
    "moviesize = w,h"
   ]
  },
  {
   "cell_type": "markdown",
   "metadata": {
    "deletable": true,
    "editable": true
   },
   "source": [
    "Type in your text. Add blanks before and after text. Linebreaks inserted using commas.\n",
    "\n",
    "Here I have two texts; the first one from Star Wars, the second one from Blade Runner (commented out in the code below). It's the a Nexus-6 combat model replicant  Roy Batty's monologue, a.k.a. \"Tears in rain\"."
   ]
  },
  {
   "cell_type": "code",
   "execution_count": 3,
   "metadata": {
    "collapsed": true,
    "deletable": true,
    "editable": true
   },
   "outputs": [],
   "source": [
    "#INSERT THE RAW TEXT (here: \"A New Hope\")\n",
    "\n",
    "txt = \"\\n\".join([\n",
    "\"It is a period of civil war. Rebel\",\n",
    "\"spaceships, striking from a\",\n",
    "\"hidden base, have won their\",\n",
    "\"first victory against the evil\",\n",
    "\"Galactic Empire. During the battle,\",\n",
    "\"Rebel spies managed to steal secret\",\n",
    "\"plans to the Empire’s ultimate weapon,\",\n",
    "\"the DEATH STAR, an armored space station\",\n",
    "\"with enough power to destroy an entire planet.\"\n",
    "\"\",\n",
    "\"\",\n",
    "\"\",\n",
    "\"\",\n",
    "\"\",\n",
    "\"\",\n",
    "\"\",\n",
    "\"\",\n",
    "\"\",\n",
    "])\n",
    "\n",
    "# Add blanks before and after text\n",
    "txt = 10*\"\\n\" +txt + 10*\"\\n\"\n",
    "\n",
    "# INSERT THE RAW TEXT (here: Tears in rain -monologue, \n",
    "# from Bladerunner)\n",
    "# txt = \"\\n\".join([\n",
    "# \"I’ve been Offworld and back…\",\n",
    "# \"I’ve stood on the back deck of a blinker\",\n",
    "# \"bound for the Plutition Camps\",\n",
    "# \"with sweat in my eyes.\",\n",
    "# \"I’ve known adventures, seen things\",\n",
    "# \"you people wouldn't believe.\",\n",
    "# \"Attack ships on fire\",\n",
    "# \"off the shoulder of Orion.\", \n",
    "# \"I watched C-beams glitter in the dark\",\n",
    "# \"near the Tannhäuser Gate.\",\n",
    "# \"All those moments\",\n",
    "# \"will be lost in time,\",\n",
    "# \"like tears in rain.\",\n",
    "# \"Time to die...\",\n",
    "# \"\",\n",
    "# \"\",\n",
    "# \"\",\n",
    "# \"\",\n",
    "# \"\",\n",
    "# \"\",\n",
    "# \"\",\n",
    "# \"\",\n",
    "# \"\",\n",
    "# ])\n",
    "# Add blanks before and after text\n",
    "#txt = 10*\"\\n\" +txt + 10*\"\\n\""
   ]
  },
  {
   "cell_type": "markdown",
   "metadata": {
    "deletable": true,
    "editable": true
   },
   "source": [
    "Apply features for the the text; color, alignment, font size etc. and create the text image.<br> You can check the available fonts and colors in TextClip using the .list -function:<br>\n",
    "*TextClip.list('font')<br>\n",
    "TextClip.list('color')*"
   ]
  },
  {
   "cell_type": "code",
   "execution_count": 4,
   "metadata": {
    "collapsed": false,
    "deletable": true,
    "editable": true
   },
   "outputs": [],
   "source": [
    "# CREATE THE TEXT IMAGE\n",
    "\n",
    "clip_txt = TextClip(txt,color='cyan', align='Center',fontsize=25,\n",
    "                    font='Xolonium-Bold', method='label')"
   ]
  },
  {
   "cell_type": "markdown",
   "metadata": {
    "deletable": true,
    "editable": true
   },
   "source": [
    "Set speed and crop the area for the rolling text"
   ]
  },
  {
   "cell_type": "code",
   "execution_count": 5,
   "metadata": {
    "collapsed": true,
    "deletable": true,
    "editable": true
   },
   "outputs": [],
   "source": [
    "# SCROLL THE TEXT IMAGE BY CROPPING A MOVING AREA\n",
    "\n",
    "txt_speed = 10 \n",
    "fl = lambda gf,t : gf(t)[int(txt_speed*t):int(txt_speed*t)+h,:]\n",
    "moving_txt= clip_txt.fl(fl, apply_to=['mask'])"
   ]
  },
  {
   "cell_type": "markdown",
   "metadata": {
    "deletable": true,
    "editable": true
   },
   "source": [
    "Add a vanishing effect on the text with a gradient, backward leaning mask."
   ]
  },
  {
   "cell_type": "code",
   "execution_count": 6,
   "metadata": {
    "collapsed": true,
    "deletable": true,
    "editable": true
   },
   "outputs": [],
   "source": [
    "# ADD A VANISHING EFFECT ON THE TEXT WITH A GRADIENT MASK\n",
    "\n",
    "grad = color_gradient(moving_txt.size,p1=(0,2*h/3),\n",
    "                p2=(0,h/4),col1=0.0,col2=1.0)\n",
    "gradmask = ImageClip(grad,ismask=True)\n",
    "fl = lambda pic : np.minimum(pic,gradmask.img)\n",
    "moving_txt.mask = moving_txt.mask.fl_image(fl)"
   ]
  },
  {
   "cell_type": "markdown",
   "metadata": {
    "deletable": true,
    "editable": true
   },
   "source": [
    "To create that perspective effect, warp the text into a trapezoid."
   ]
  },
  {
   "cell_type": "code",
   "execution_count": 7,
   "metadata": {
    "collapsed": true,
    "deletable": true,
    "editable": true
   },
   "outputs": [],
   "source": [
    "# WARP THE TEXT INTO A TRAPEZOID (PERSPECTIVE EFFECT)\n",
    "\n",
    "def trapzWarp(pic,cx,cy,ismask=False):\n",
    "    Y,X = pic.shape[:2]\n",
    "    src = np.array([[0,0],[X,0],[X,Y],[0,Y]])\n",
    "    dst = np.array([[cx*X,cy*Y],[(1-cx)*X,cy*Y],[X,Y],[0,Y]])\n",
    "    tform = tf.ProjectiveTransform()\n",
    "    tform.estimate(src,dst)\n",
    "    im = tf.warp(pic, tform.inverse, output_shape=(Y,X))\n",
    "    return im if ismask else (im*255).astype('uint8')\n",
    "\n",
    "fl_im = lambda pic : trapzWarp(pic,0.2,0.3)\n",
    "fl_mask = lambda pic : trapzWarp(pic,0.2,0.3, ismask=True)\n",
    "warped_txt= moving_txt.fl_image(fl_im)\n",
    "warped_txt.mask = warped_txt.mask.fl_image(fl_mask)"
   ]
  },
  {
   "cell_type": "markdown",
   "metadata": {
    "deletable": true,
    "editable": true
   },
   "source": [
    "Add a background image of your choice and darken it if necessary to increase the contrast with the text. Choose a color image (RBG), not black-and-white."
   ]
  },
  {
   "cell_type": "code",
   "execution_count": 8,
   "metadata": {
    "collapsed": true,
    "deletable": true,
    "editable": true
   },
   "outputs": [],
   "source": [
    "# BACKGROUND IMAGE, DARKENED HERE AT 60%\n",
    "\n",
    "stars = ImageClip('C:/Users/jangn/OneDrive/CODE/Deep_Learning/Star_Wars_opening_title/images/death_star.jpg')\n",
    "stars_darkened = stars.fl_image(lambda pic: (0.6*pic).astype('int16'))  "
   ]
  },
  {
   "cell_type": "markdown",
   "metadata": {
    "deletable": true,
    "editable": true
   },
   "source": [
    "Finally, compose the movie by setting its duration in seconds, fps rate and write it to a file, giving it a name of your choice. "
   ]
  },
  {
   "cell_type": "code",
   "execution_count": 10,
   "metadata": {
    "collapsed": false,
    "deletable": true,
    "editable": true,
    "scrolled": true
   },
   "outputs": [
    {
     "name": "stdout",
     "output_type": "stream",
     "text": [
      "Moviepy - Building video star_wars_crawl.avi.\n",
      "Moviepy - Writing video star_wars_crawl.avi\n",
      "\n"
     ]
    },
    {
     "name": "stderr",
     "output_type": "stream",
     "text": [
      "                                                              \r"
     ]
    },
    {
     "name": "stdout",
     "output_type": "stream",
     "text": [
      "Moviepy - Done !\n",
      "Moviepy - video ready star_wars_crawl.avi\n"
     ]
    }
   ],
   "source": [
    "# COMPOSE THE MOVIE\n",
    "\n",
    "final = CompositeVideoClip([\n",
    "         stars_darkened,\n",
    "         warped_txt.set_pos(('center','bottom'))],\n",
    "         size = moviesize)\n",
    "\n",
    "\n",
    "# WRITE TO A FILE\n",
    "# duration here set to 35 seconds, with 18 frames per second\n",
    "\n",
    "final.set_duration(35).write_videofile(\"star_wars_crawl.avi\", \n",
    "                                       fps=18, codec='rawvideo') \n",
    "\n"
   ]
  },
  {
   "cell_type": "markdown",
   "metadata": {
    "deletable": true,
    "editable": true
   },
   "source": [
    "If you are a Windows 10 user, like me, you most likely will need to do an adjustment in the **moviepy/config_defaults.py** -file. You need to provide the path to the ImageMagick binary called *magick*. You should find the path within the config_defaults.py -file looking like this:\n",
    "\n",
    "IMAGEMAGICK_BINARY = \"C:\\\\Program Files\\\\ImageMagick_VERSION\\\\magick.exe\"\n",
    "\n",
    "Please note! In some versions the file might be called convert.exe instead of magick.exe."
   ]
  },
  {
   "cell_type": "markdown",
   "metadata": {
    "deletable": true,
    "editable": true
   },
   "source": [
    "The size of final movie file with the settings above will be about 540Mbs. Feel free to experiment with other settings!"
   ]
  }
 ],
 "metadata": {
  "kernelspec": {
   "display_name": "Python 3",
   "language": "python",
   "name": "python3"
  },
  "language_info": {
   "codemirror_mode": {
    "name": "ipython",
    "version": 3
   },
   "file_extension": ".py",
   "mimetype": "text/x-python",
   "name": "python",
   "nbconvert_exporter": "python",
   "pygments_lexer": "ipython3",
   "version": "3.5.2"
  }
 },
 "nbformat": 4,
 "nbformat_minor": 2
}
